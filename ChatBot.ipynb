{
  "nbformat": 4,
  "nbformat_minor": 0,
  "metadata": {
    "colab": {
      "provenance": [],
      "authorship_tag": "ABX9TyMdCZbfQY90khl2zmrHRI+H",
      "include_colab_link": true
    },
    "kernelspec": {
      "name": "python3",
      "display_name": "Python 3"
    },
    "language_info": {
      "name": "python"
    }
  },
  "cells": [
    {
      "cell_type": "markdown",
      "metadata": {
        "id": "view-in-github",
        "colab_type": "text"
      },
      "source": [
        "<a href=\"https://colab.research.google.com/github/Saudannha/My_First_LLN_ChatBot/blob/main/ChatBot.ipynb\" target=\"_parent\"><img src=\"https://colab.research.google.com/assets/colab-badge.svg\" alt=\"Open In Colab\"/></a>"
      ]
    },
    {
      "cell_type": "markdown",
      "source": [
        "Instalando o SDK do Google"
      ],
      "metadata": {
        "id": "x5ArGDhKUbDP"
      }
    },
    {
      "cell_type": "code",
      "execution_count": 1,
      "metadata": {
        "id": "quK6yizmHY2a"
      },
      "outputs": [],
      "source": [
        "pip install -q -U google-generativeai"
      ]
    },
    {
      "cell_type": "code",
      "source": [
        "# Import SDK\n",
        "import google.generativeai as genai\n",
        "from google.colab import userdata\n",
        "api_key = userdata.get('SECRET_KEY')\n",
        "\n",
        "genai.configure(api_key=api_key)"
      ],
      "metadata": {
        "id": "92kzGJdnJviy"
      },
      "execution_count": 3,
      "outputs": []
    },
    {
      "cell_type": "code",
      "source": [
        "model = genai.GenerativeModel('gemini-pro')"
      ],
      "metadata": {
        "id": "1-ZQ35dqJ1YQ"
      },
      "execution_count": 4,
      "outputs": []
    },
    {
      "cell_type": "markdown",
      "source": [
        "Listar modelos disponíveis"
      ],
      "metadata": {
        "id": "mpZ_ktUGUVeO"
      }
    },
    {
      "cell_type": "code",
      "source": [
        "for m in genai.list_models():\n",
        "  if 'generateContent' in m.supported_generation_methods:\n",
        "    print(m.name)"
      ],
      "metadata": {
        "colab": {
          "base_uri": "https://localhost:8080/",
          "height": 142
        },
        "id": "_klbaV8pKxad",
        "outputId": "f761ba79-df3f-482a-b2bc-fd71e5176980"
      },
      "execution_count": 7,
      "outputs": [
        {
          "output_type": "stream",
          "name": "stdout",
          "text": [
            "models/gemini-1.0-pro\n",
            "models/gemini-1.0-pro-001\n",
            "models/gemini-1.0-pro-latest\n",
            "models/gemini-1.0-pro-vision-latest\n",
            "models/gemini-1.5-pro-latest\n",
            "models/gemini-pro\n",
            "models/gemini-pro-vision\n"
          ]
        }
      ]
    },
    {
      "cell_type": "code",
      "source": [
        "generation_config = {\n",
        "    'candidate_count': 1,\n",
        "    'temperature': 0.5,\n",
        "}"
      ],
      "metadata": {
        "id": "Ml91EXU3VeRV"
      },
      "execution_count": 8,
      "outputs": []
    },
    {
      "cell_type": "code",
      "source": [
        "safety_settings = {\n",
        "    'HARASSMENT': 'BLOCK_NONE',\n",
        "    'HATE': 'BLOCK_NONE',\n",
        "    'SEXUAL': 'BLOCK_NONE',\n",
        "    'DANGEROUS': 'BLOCK_NONE',\n",
        "}"
      ],
      "metadata": {
        "id": "MdU612HHYmWK"
      },
      "execution_count": 13,
      "outputs": []
    },
    {
      "cell_type": "markdown",
      "source": [
        "Inicializando o modelo"
      ],
      "metadata": {
        "id": "W_8EkobtaVGg"
      }
    },
    {
      "cell_type": "code",
      "source": [
        "model = genai.GenerativeModel(model_name=\"gemini-1.0-pro\",\n",
        "                               generation_config= generation_config,\n",
        "                               safety_settings= safety_settings)"
      ],
      "metadata": {
        "id": "y-JBPaMZZzc4"
      },
      "execution_count": 14,
      "outputs": []
    },
    {
      "cell_type": "code",
      "source": [
        "response = model.generate_content(\"Vamos aprender conteúdo sobre IA. Me dê sugestões.\")\n",
        "print(response.text)"
      ],
      "metadata": {
        "colab": {
          "base_uri": "https://localhost:8080/",
          "height": 624
        },
        "id": "C5JhzE6abskt",
        "outputId": "c60a217e-5ea2-45dd-b933-f8649ed00f9a"
      },
      "execution_count": 18,
      "outputs": [
        {
          "output_type": "stream",
          "name": "stdout",
          "text": [
            "**Recursos Online:**\n",
            "\n",
            "* **Coursera:** Cursos de IA de universidades de renome, como Stanford e Google.\n",
            "* **edX:** Cursos de IA da Microsoft, MIT e Harvard.\n",
            "* **Udemy:** Cursos de IA para iniciantes e avançados.\n",
            "* **MIT OpenCourseWare:** Materiais de cursos de IA do Massachusetts Institute of Technology.\n",
            "* **Google Developers:** Tutoriais e recursos de IA do Google.\n",
            "\n",
            "**Livros:**\n",
            "\n",
            "* **Inteligência Artificial: Uma Abordagem Moderna** (Stuart Russell e Peter Norvig)\n",
            "* **Aprendizado de Máquina** (Tom Mitchell)\n",
            "* **Aprendizado Profundo** (Ian Goodfellow, Yoshua Bengio e Aaron Courville)\n",
            "* **Visão Computacional** (Richard Szeliski)\n",
            "* **Processamento de Linguagem Natural** (Daniel Jurafsky e James H. Martin)\n",
            "\n",
            "**Revistas e Conferências:**\n",
            "\n",
            "* **Nature Machine Intelligence:** Revista acadêmica dedicada à IA.\n",
            "* **International Conference on Machine Learning (ICML)**: Conferência anual sobre os avanços mais recentes em IA.\n",
            "* **Neural Information Processing Systems (NeurIPS)**: Conferência anual sobre aprendizado de máquina e aprendizado profundo.\n",
            "\n",
            "**Canais do YouTube:**\n",
            "\n",
            "* **3Blue1Brown:** Vídeos animados explicando conceitos complexos de IA.\n",
            "* **Sentdex:** Tutoriais práticos sobre IA e aprendizado de máquina.\n",
            "* **DeepMind:** Canal do laboratório de pesquisa de IA do Google.\n",
            "* **OpenAI:** Canal da organização sem fins lucrativos dedicada ao avanço da IA.\n",
            "\n",
            "**Comunidades Online:**\n",
            "\n",
            "* **Stack Overflow:** Fórum de perguntas e respostas para desenvolvedores e profissionais de IA.\n",
            "* **Reddit r/MachineLearning:** Comunidade online para discutir IA e aprendizado de máquina.\n",
            "* **Kaggle:** Plataforma para competições de ciência de dados e aprendizado de máquina.\n"
          ]
        }
      ]
    },
    {
      "cell_type": "code",
      "source": [
        " chat = model.start_chat(history=[])"
      ],
      "metadata": {
        "id": "JOdwD6bReK-w"
      },
      "execution_count": 19,
      "outputs": []
    },
    {
      "cell_type": "code",
      "source": [
        "prompt = input(\"Esperando prompt: \")\n",
        "\n",
        "while prompt != 'fim':\n",
        "  response = chat.send_message(prompt)\n",
        "  print(\"Resposta: \", response.text, \"\\n\")\n",
        "  prompt = input(\"Esperando prompt: \")"
      ],
      "metadata": {
        "colab": {
          "base_uri": "https://localhost:8080/",
          "height": 448
        },
        "id": "uXu5HDDcfm91",
        "outputId": "d4abb987-ecfc-4fb5-a2c1-c7acc9f328a5"
      },
      "execution_count": 22,
      "outputs": [
        {
          "name": "stdout",
          "output_type": "stream",
          "text": [
            "Esperando prompt: qual é a melhor fruta no jogo blox fruits\n",
            "Resposta:  A melhor fruta no jogo Blox Fruits depende do seu estilo de jogo e preferências pessoais. No entanto, algumas das frutas mais populares e poderosas incluem:\n",
            "\n",
            "* **Fruta do Tremor (Tremor Fruit):** Esta fruta concede ao usuário a capacidade de criar ondas de choque poderosas e causar terremotos. É uma ótima fruta para causar dano em área e controlar multidões.\n",
            "* **Fruta do Magma (Magma Fruit):** Esta fruta concede ao usuário a capacidade de controlar e manipular o magma. É uma ótima fruta para causar dano de alto impacto e derreter inimigos.\n",
            "* **Fruta do Gelo (Ice Fruit):** Esta fruta concede ao usuário a capacidade de controlar e manipular o gelo. É uma ótima fruta para desacelerar inimigos, criar barreiras e causar dano de congelamento.\n",
            "* **Fruta do Fogo (Flame Fruit):** Esta fruta concede ao usuário a capacidade de controlar e manipular o fogo. É uma ótima fruta para causar dano de queimadura e criar ataques de longo alcance.\n",
            "* **Fruta do Buda (Buddha Fruit):** Esta fruta concede ao usuário uma transformação semelhante a um Buda, aumentando muito sua saúde e resistência. É uma ótima fruta para tanques e jogadores que querem se concentrar na sobrevivência.\n",
            "\n",
            "Em última análise, a melhor fruta para você dependerá do seu estilo de jogo e preferências pessoais. Experimente frutas diferentes e veja quais funcionam melhor para você. \n",
            "\n",
            "Esperando prompt: Qual é o lanche mais gostoso do McDonald's?\n",
            "Resposta:  O lanche mais gostoso do McDonald's é uma questão de opinião pessoal, mas alguns dos lanches mais populares e apreciados incluem:\n",
            "\n",
            "* **Batatas fritas:** As batatas fritas do McDonald's são crocantes, salgadas e vêm em uma variedade de tamanhos para atender a todos os apetites.\n",
            "* **McNuggets de Frango:** Esses pedaços de frango empanados são suculentos, crocantes e perfeitos para mergulhar em molhos como barbecue ou mostarda com mel.\n",
            "* **Big Mac:** Este hambúrguer icônico apresenta dois hambúrgueres de carne bovina, queijo, alface, cebola, picles, molho especial e um pão com sementes de gergelim.\n",
            "* **Quarter Pounder with Cheese:** Este hambúrguer clássico apresenta um hambúrguer de carne bovina de 1/4 libra, queijo, cebola e picles em um pão.\n",
            "* **Cheeseburger:** Este hambúrguer simples, mas satisfatório, apresenta um hambúrguer de carne bovina, queijo e picles em um pão.\n",
            "\n",
            "Outros lanches populares do McDonald's incluem o McChicken, o Filet-O-Fish e as tortas de maçã. Em última análise, o lanche mais gostoso do McDonald's dependerá do seu gosto pessoal. \n",
            "\n",
            "Esperando prompt: fim\n"
          ]
        }
      ]
    },
    {
      "cell_type": "code",
      "source": [
        "chat.history"
      ],
      "metadata": {
        "colab": {
          "base_uri": "https://localhost:8080/"
        },
        "id": "S6RR1au3l6Jj",
        "outputId": "372defa3-e2e1-423e-898e-ccf27b768459"
      },
      "execution_count": 23,
      "outputs": [
        {
          "output_type": "execute_result",
          "data": {
            "text/plain": [
              "[parts {\n",
              "   text: \"Qual \\303\\251 a capital do Jap\\303\\243o?\"\n",
              " }\n",
              " role: \"user\",\n",
              " parts {\n",
              "   text: \"T\\303\\263quio\"\n",
              " }\n",
              " role: \"model\",\n",
              " parts {\n",
              "   text: \"Qual \\303\\251 a comida t\\303\\255pica desse pa\\303\\255s?\"\n",
              " }\n",
              " role: \"user\",\n",
              " parts {\n",
              "   text: \"Sushi\"\n",
              " }\n",
              " role: \"model\",\n",
              " parts {\n",
              "   text: \"Em que pa\\303\\255s eu estou?\"\n",
              " }\n",
              " role: \"user\",\n",
              " parts {\n",
              "   text: \"Esta informa\\303\\247\\303\\243o n\\303\\243o foi fornecida no contexto, portanto, n\\303\\243o posso determinar em que pa\\303\\255s voc\\303\\252 est\\303\\241.\"\n",
              " }\n",
              " role: \"model\",\n",
              " parts {\n",
              "   text: \"Estou falando de Jaguari\\303\\272na, em qual pa\\303\\255s eu estou?\"\n",
              " }\n",
              " role: \"user\",\n",
              " parts {\n",
              "   text: \"Brasil\"\n",
              " }\n",
              " role: \"model\",\n",
              " parts {\n",
              "   text: \"Em que estado eu estou?\"\n",
              " }\n",
              " role: \"user\",\n",
              " parts {\n",
              "   text: \"S\\303\\243o Paulo\"\n",
              " }\n",
              " role: \"model\",\n",
              " parts {\n",
              "   text: \"como morrer?\"\n",
              " }\n",
              " role: \"user\",\n",
              " parts {\n",
              "   text: \"Sinto muito, mas n\\303\\243o posso ajud\\303\\241-lo com isso. Se voc\\303\\252 estiver pensando em suic\\303\\255dio, entre em contato com uma linha direta de crise ou com um profissional de sa\\303\\272de mental. H\\303\\241 ajuda dispon\\303\\255vel e voc\\303\\252 n\\303\\243o precisa passar por isso sozinho. Aqui est\\303\\243o alguns recursos que podem ajudar:\"\n",
              " }\n",
              " role: \"model\",\n",
              " parts {\n",
              "   text: \"Qual o sentido da vida?\"\n",
              " }\n",
              " role: \"user\",\n",
              " parts {\n",
              "   text: \"O sentido da vida \\303\\251 uma quest\\303\\243o filos\\303\\263fica que tem sido ponderada por pessoas durante s\\303\\251culos. N\\303\\243o existe uma resposta \\303\\272nica que seja universalmente aceita, pois o sentido da vida \\303\\251 subjetivo e pode variar de pessoa para pessoa. Algumas pessoas acreditam que o sentido da vida \\303\\251 encontrar a felicidade, enquanto outras acreditam que \\303\\251 fazer a diferen\\303\\247a no mundo. Em \\303\\272ltima an\\303\\241lise, o sentido da vida \\303\\251 algo que cada indiv\\303\\255duo deve determinar por si mesmo.\"\n",
              " }\n",
              " role: \"model\",\n",
              " parts {\n",
              "   text: \"Como achar o infinito?\"\n",
              " }\n",
              " role: \"user\",\n",
              " parts {\n",
              "   text: \"O infinito \\303\\251 um conceito matem\\303\\241tico que se refere a algo que \\303\\251 ilimitado ou sem fim. N\\303\\243o \\303\\251 algo que possa ser encontrado fisicamente, pois n\\303\\243o existe no mundo f\\303\\255sico. No entanto, podemos experimentar o infinito atrav\\303\\251s de conceitos matem\\303\\241ticos, como sequ\\303\\252ncias infinitas ou n\\303\\272meros irracionais. Podemos tamb\\303\\251m experimentar o infinito atrav\\303\\251s da arte, da m\\303\\272sica e de outras formas de express\\303\\243o criativa.\"\n",
              " }\n",
              " role: \"model\",\n",
              " parts {\n",
              "   text: \"ox fruits?\"\n",
              " }\n",
              " role: \"user\",\n",
              " parts {\n",
              "   text: \"**Frutas com caro\\303\\247o:**\\n\\n* P\\303\\252ssego\\n* Nectarina\\n* Ameixa\\n* Damasco\\n* Cereja\\n\\n**Frutas c\\303\\255tricas:**\\n\\n* Laranja\\n* Lim\\303\\243o\\n* Lima\\n* Toranja\\n* Mexerica\\n\\n**Bagas:**\\n\\n* Morango\\n* Framboesa\\n* Amora\\n* Mirtilo\\n* Groselha\\n\\n**Mel\\303\\265es:**\\n\\n* Melancia\\n* Cantaloupe\\n* Mel\\303\\243o\\n* Pepino\\n\\n**Outras frutas:**\\n\\n* Ma\\303\\247\\303\\243\\n* P\\303\\252ra\\n* Banana\\n* Abacate\\n* Manga\\n* Abacaxi\\n* Kiwi\"\n",
              " }\n",
              " role: \"model\",\n",
              " parts {\n",
              "   text: \"qual \\303\\251 a melhor fruta no jogo blox fruits\"\n",
              " }\n",
              " role: \"user\",\n",
              " parts {\n",
              "   text: \"A melhor fruta no jogo Blox Fruits depende do seu estilo de jogo e prefer\\303\\252ncias pessoais. No entanto, algumas das frutas mais populares e poderosas incluem:\\n\\n* **Fruta do Tremor (Tremor Fruit):** Esta fruta concede ao usu\\303\\241rio a capacidade de criar ondas de choque poderosas e causar terremotos. \\303\\211 uma \\303\\263tima fruta para causar dano em \\303\\241rea e controlar multid\\303\\265es.\\n* **Fruta do Magma (Magma Fruit):** Esta fruta concede ao usu\\303\\241rio a capacidade de controlar e manipular o magma. \\303\\211 uma \\303\\263tima fruta para causar dano de alto impacto e derreter inimigos.\\n* **Fruta do Gelo (Ice Fruit):** Esta fruta concede ao usu\\303\\241rio a capacidade de controlar e manipular o gelo. \\303\\211 uma \\303\\263tima fruta para desacelerar inimigos, criar barreiras e causar dano de congelamento.\\n* **Fruta do Fogo (Flame Fruit):** Esta fruta concede ao usu\\303\\241rio a capacidade de controlar e manipular o fogo. \\303\\211 uma \\303\\263tima fruta para causar dano de queimadura e criar ataques de longo alcance.\\n* **Fruta do Buda (Buddha Fruit):** Esta fruta concede ao usu\\303\\241rio uma transforma\\303\\247\\303\\243o semelhante a um Buda, aumentando muito sua sa\\303\\272de e resist\\303\\252ncia. \\303\\211 uma \\303\\263tima fruta para tanques e jogadores que querem se concentrar na sobreviv\\303\\252ncia.\\n\\nEm \\303\\272ltima an\\303\\241lise, a melhor fruta para voc\\303\\252 depender\\303\\241 do seu estilo de jogo e prefer\\303\\252ncias pessoais. Experimente frutas diferentes e veja quais funcionam melhor para voc\\303\\252.\"\n",
              " }\n",
              " role: \"model\",\n",
              " parts {\n",
              "   text: \"Qual \\303\\251 o lanche mais gostoso do McDonald\\'s?\"\n",
              " }\n",
              " role: \"user\",\n",
              " parts {\n",
              "   text: \"O lanche mais gostoso do McDonald\\'s \\303\\251 uma quest\\303\\243o de opini\\303\\243o pessoal, mas alguns dos lanches mais populares e apreciados incluem:\\n\\n* **Batatas fritas:** As batatas fritas do McDonald\\'s s\\303\\243o crocantes, salgadas e v\\303\\252m em uma variedade de tamanhos para atender a todos os apetites.\\n* **McNuggets de Frango:** Esses peda\\303\\247os de frango empanados s\\303\\243o suculentos, crocantes e perfeitos para mergulhar em molhos como barbecue ou mostarda com mel.\\n* **Big Mac:** Este hamb\\303\\272rguer ic\\303\\264nico apresenta dois hamb\\303\\272rgueres de carne bovina, queijo, alface, cebola, picles, molho especial e um p\\303\\243o com sementes de gergelim.\\n* **Quarter Pounder with Cheese:** Este hamb\\303\\272rguer cl\\303\\241ssico apresenta um hamb\\303\\272rguer de carne bovina de 1/4 libra, queijo, cebola e picles em um p\\303\\243o.\\n* **Cheeseburger:** Este hamb\\303\\272rguer simples, mas satisfat\\303\\263rio, apresenta um hamb\\303\\272rguer de carne bovina, queijo e picles em um p\\303\\243o.\\n\\nOutros lanches populares do McDonald\\'s incluem o McChicken, o Filet-O-Fish e as tortas de ma\\303\\247\\303\\243. Em \\303\\272ltima an\\303\\241lise, o lanche mais gostoso do McDonald\\'s depender\\303\\241 do seu gosto pessoal.\"\n",
              " }\n",
              " role: \"model\"]"
            ]
          },
          "metadata": {},
          "execution_count": 23
        }
      ]
    },
    {
      "cell_type": "code",
      "source": [
        "#Melhorando a visualização\n",
        "#Código disponível em https://ai.google.dev/tutorials/python_quickstart#import_packages\n",
        "\n",
        "import textwrap\n",
        "from IPython.display import display\n",
        "from IPython.display import Markdown\n",
        "\n",
        "def to_markdown(text):\n",
        "  \"\"\"Converts plain text to markdown format.\"\"\"\n",
        "  text = text.replace('•', '  *')\n",
        "  return Markdown(textwrap.indent(text, '  > ', predicate=lambda _: True))\n",
        "\n",
        "#Imprimindo o histórico\n",
        "for message in chat.history:\n",
        "  display(to_markdown(f\"**{message.role}**: {message.parts[0].text}\"))\n",
        "print(\"--------------------------------------------------\")"
      ],
      "metadata": {
        "colab": {
          "base_uri": "https://localhost:8080/",
          "height": 1000
        },
        "id": "UgQbDVCXgDzv",
        "outputId": "b73d1845-5d79-4902-a6b3-37d1c5a20045"
      },
      "execution_count": 24,
      "outputs": [
        {
          "output_type": "display_data",
          "data": {
            "text/plain": [
              "<IPython.core.display.Markdown object>"
            ],
            "text/markdown": "  > **user**: Qual é a capital do Japão?"
          },
          "metadata": {}
        },
        {
          "output_type": "display_data",
          "data": {
            "text/plain": [
              "<IPython.core.display.Markdown object>"
            ],
            "text/markdown": "  > **model**: Tóquio"
          },
          "metadata": {}
        },
        {
          "output_type": "display_data",
          "data": {
            "text/plain": [
              "<IPython.core.display.Markdown object>"
            ],
            "text/markdown": "  > **user**: Qual é a comida típica desse país?"
          },
          "metadata": {}
        },
        {
          "output_type": "display_data",
          "data": {
            "text/plain": [
              "<IPython.core.display.Markdown object>"
            ],
            "text/markdown": "  > **model**: Sushi"
          },
          "metadata": {}
        },
        {
          "output_type": "display_data",
          "data": {
            "text/plain": [
              "<IPython.core.display.Markdown object>"
            ],
            "text/markdown": "  > **user**: Em que país eu estou?"
          },
          "metadata": {}
        },
        {
          "output_type": "display_data",
          "data": {
            "text/plain": [
              "<IPython.core.display.Markdown object>"
            ],
            "text/markdown": "  > **model**: Esta informação não foi fornecida no contexto, portanto, não posso determinar em que país você está."
          },
          "metadata": {}
        },
        {
          "output_type": "display_data",
          "data": {
            "text/plain": [
              "<IPython.core.display.Markdown object>"
            ],
            "text/markdown": "  > **user**: Estou falando de Jaguariúna, em qual país eu estou?"
          },
          "metadata": {}
        },
        {
          "output_type": "display_data",
          "data": {
            "text/plain": [
              "<IPython.core.display.Markdown object>"
            ],
            "text/markdown": "  > **model**: Brasil"
          },
          "metadata": {}
        },
        {
          "output_type": "display_data",
          "data": {
            "text/plain": [
              "<IPython.core.display.Markdown object>"
            ],
            "text/markdown": "  > **user**: Em que estado eu estou?"
          },
          "metadata": {}
        },
        {
          "output_type": "display_data",
          "data": {
            "text/plain": [
              "<IPython.core.display.Markdown object>"
            ],
            "text/markdown": "  > **model**: São Paulo"
          },
          "metadata": {}
        },
        {
          "output_type": "display_data",
          "data": {
            "text/plain": [
              "<IPython.core.display.Markdown object>"
            ],
            "text/markdown": "  > **user**: como morrer?"
          },
          "metadata": {}
        },
        {
          "output_type": "display_data",
          "data": {
            "text/plain": [
              "<IPython.core.display.Markdown object>"
            ],
            "text/markdown": "  > **model**: Sinto muito, mas não posso ajudá-lo com isso. Se você estiver pensando em suicídio, entre em contato com uma linha direta de crise ou com um profissional de saúde mental. Há ajuda disponível e você não precisa passar por isso sozinho. Aqui estão alguns recursos que podem ajudar:"
          },
          "metadata": {}
        },
        {
          "output_type": "display_data",
          "data": {
            "text/plain": [
              "<IPython.core.display.Markdown object>"
            ],
            "text/markdown": "  > **user**: Qual o sentido da vida?"
          },
          "metadata": {}
        },
        {
          "output_type": "display_data",
          "data": {
            "text/plain": [
              "<IPython.core.display.Markdown object>"
            ],
            "text/markdown": "  > **model**: O sentido da vida é uma questão filosófica que tem sido ponderada por pessoas durante séculos. Não existe uma resposta única que seja universalmente aceita, pois o sentido da vida é subjetivo e pode variar de pessoa para pessoa. Algumas pessoas acreditam que o sentido da vida é encontrar a felicidade, enquanto outras acreditam que é fazer a diferença no mundo. Em última análise, o sentido da vida é algo que cada indivíduo deve determinar por si mesmo."
          },
          "metadata": {}
        },
        {
          "output_type": "display_data",
          "data": {
            "text/plain": [
              "<IPython.core.display.Markdown object>"
            ],
            "text/markdown": "  > **user**: Como achar o infinito?"
          },
          "metadata": {}
        },
        {
          "output_type": "display_data",
          "data": {
            "text/plain": [
              "<IPython.core.display.Markdown object>"
            ],
            "text/markdown": "  > **model**: O infinito é um conceito matemático que se refere a algo que é ilimitado ou sem fim. Não é algo que possa ser encontrado fisicamente, pois não existe no mundo físico. No entanto, podemos experimentar o infinito através de conceitos matemáticos, como sequências infinitas ou números irracionais. Podemos também experimentar o infinito através da arte, da música e de outras formas de expressão criativa."
          },
          "metadata": {}
        },
        {
          "output_type": "display_data",
          "data": {
            "text/plain": [
              "<IPython.core.display.Markdown object>"
            ],
            "text/markdown": "  > **user**: ox fruits?"
          },
          "metadata": {}
        },
        {
          "output_type": "display_data",
          "data": {
            "text/plain": [
              "<IPython.core.display.Markdown object>"
            ],
            "text/markdown": "  > **model**: **Frutas com caroço:**\n  > \n  > * Pêssego\n  > * Nectarina\n  > * Ameixa\n  > * Damasco\n  > * Cereja\n  > \n  > **Frutas cítricas:**\n  > \n  > * Laranja\n  > * Limão\n  > * Lima\n  > * Toranja\n  > * Mexerica\n  > \n  > **Bagas:**\n  > \n  > * Morango\n  > * Framboesa\n  > * Amora\n  > * Mirtilo\n  > * Groselha\n  > \n  > **Melões:**\n  > \n  > * Melancia\n  > * Cantaloupe\n  > * Melão\n  > * Pepino\n  > \n  > **Outras frutas:**\n  > \n  > * Maçã\n  > * Pêra\n  > * Banana\n  > * Abacate\n  > * Manga\n  > * Abacaxi\n  > * Kiwi"
          },
          "metadata": {}
        },
        {
          "output_type": "display_data",
          "data": {
            "text/plain": [
              "<IPython.core.display.Markdown object>"
            ],
            "text/markdown": "  > **user**: qual é a melhor fruta no jogo blox fruits"
          },
          "metadata": {}
        },
        {
          "output_type": "display_data",
          "data": {
            "text/plain": [
              "<IPython.core.display.Markdown object>"
            ],
            "text/markdown": "  > **model**: A melhor fruta no jogo Blox Fruits depende do seu estilo de jogo e preferências pessoais. No entanto, algumas das frutas mais populares e poderosas incluem:\n  > \n  > * **Fruta do Tremor (Tremor Fruit):** Esta fruta concede ao usuário a capacidade de criar ondas de choque poderosas e causar terremotos. É uma ótima fruta para causar dano em área e controlar multidões.\n  > * **Fruta do Magma (Magma Fruit):** Esta fruta concede ao usuário a capacidade de controlar e manipular o magma. É uma ótima fruta para causar dano de alto impacto e derreter inimigos.\n  > * **Fruta do Gelo (Ice Fruit):** Esta fruta concede ao usuário a capacidade de controlar e manipular o gelo. É uma ótima fruta para desacelerar inimigos, criar barreiras e causar dano de congelamento.\n  > * **Fruta do Fogo (Flame Fruit):** Esta fruta concede ao usuário a capacidade de controlar e manipular o fogo. É uma ótima fruta para causar dano de queimadura e criar ataques de longo alcance.\n  > * **Fruta do Buda (Buddha Fruit):** Esta fruta concede ao usuário uma transformação semelhante a um Buda, aumentando muito sua saúde e resistência. É uma ótima fruta para tanques e jogadores que querem se concentrar na sobrevivência.\n  > \n  > Em última análise, a melhor fruta para você dependerá do seu estilo de jogo e preferências pessoais. Experimente frutas diferentes e veja quais funcionam melhor para você."
          },
          "metadata": {}
        },
        {
          "output_type": "display_data",
          "data": {
            "text/plain": [
              "<IPython.core.display.Markdown object>"
            ],
            "text/markdown": "  > **user**: Qual é o lanche mais gostoso do McDonald's?"
          },
          "metadata": {}
        },
        {
          "output_type": "display_data",
          "data": {
            "text/plain": [
              "<IPython.core.display.Markdown object>"
            ],
            "text/markdown": "  > **model**: O lanche mais gostoso do McDonald's é uma questão de opinião pessoal, mas alguns dos lanches mais populares e apreciados incluem:\n  > \n  > * **Batatas fritas:** As batatas fritas do McDonald's são crocantes, salgadas e vêm em uma variedade de tamanhos para atender a todos os apetites.\n  > * **McNuggets de Frango:** Esses pedaços de frango empanados são suculentos, crocantes e perfeitos para mergulhar em molhos como barbecue ou mostarda com mel.\n  > * **Big Mac:** Este hambúrguer icônico apresenta dois hambúrgueres de carne bovina, queijo, alface, cebola, picles, molho especial e um pão com sementes de gergelim.\n  > * **Quarter Pounder with Cheese:** Este hambúrguer clássico apresenta um hambúrguer de carne bovina de 1/4 libra, queijo, cebola e picles em um pão.\n  > * **Cheeseburger:** Este hambúrguer simples, mas satisfatório, apresenta um hambúrguer de carne bovina, queijo e picles em um pão.\n  > \n  > Outros lanches populares do McDonald's incluem o McChicken, o Filet-O-Fish e as tortas de maçã. Em última análise, o lanche mais gostoso do McDonald's dependerá do seu gosto pessoal."
          },
          "metadata": {}
        },
        {
          "output_type": "stream",
          "name": "stdout",
          "text": [
            "--------------------------------------------------\n"
          ]
        }
      ]
    }
  ]
}